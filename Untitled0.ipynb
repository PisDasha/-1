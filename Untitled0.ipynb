{
  "nbformat": 4,
  "nbformat_minor": 0,
  "metadata": {
    "colab": {
      "provenance": [],
      "authorship_tag": "ABX9TyMaTjj5Vt1L3ouRjB5uae+s",
      "include_colab_link": true
    },
    "kernelspec": {
      "name": "python3",
      "display_name": "Python 3"
    },
    "language_info": {
      "name": "python"
    }
  },
  "cells": [
    {
      "cell_type": "markdown",
      "metadata": {
        "id": "view-in-github",
        "colab_type": "text"
      },
      "source": [
        "<a href=\"https://colab.research.google.com/github/PisDasha/java_labs/blob/main/Untitled0.ipynb\" target=\"_parent\"><img src=\"https://colab.research.google.com/assets/colab-badge.svg\" alt=\"Open In Colab\"/></a>"
      ]
    },
    {
      "cell_type": "code",
      "execution_count": 2,
      "metadata": {
        "colab": {
          "base_uri": "https://localhost:8080/"
        },
        "id": "PO0sUethlw-u",
        "outputId": "6b14a73f-dc48-4908-91cc-440828b3a5b0"
      },
      "outputs": [
        {
          "output_type": "stream",
          "name": "stdout",
          "text": [
            "Исходное сообщение: 11001010\n",
            "После 1-й итерации: 00110110\n",
            "После 2-й итерации: 11101101\n",
            "После 3-й итерации: 10100110\n",
            "Зашифрованное сообщение: 10100110\n"
          ]
        }
      ],
      "source": [
        "# Функции для S-блоков 3 и 4\n",
        "def S1(block):\n",
        "    S_box = [0xE, 0x4, 0xD, 0x1, 0xA, 0x6, 0x2, 0xF, 0xC, 0x8, 0xB, 0x3, 0x0, 0x7, 0x9, 0x5]\n",
        "    return S_box[block]\n",
        "\n",
        "def S2(block):\n",
        "    S_box = [0xB, 0x3, 0x7, 0xF, 0x5, 0xC, 0x2, 0x1, 0x9, 0x6, 0x0, 0xA, 0x8, 0x4, 0xD, 0xE]\n",
        "    return S_box[block]\n",
        "\n",
        "# Перестановка P-блока (1, 4, 7, 2, 5, 8, 3, 6)\n",
        "def P_block(bits):\n",
        "    perm = [1, 4, 7, 2, 5, 8, 3, 6]\n",
        "    return ''.join([bits[i-1] for i in perm])\n",
        "\n",
        "# Функция сложения (XOR)\n",
        "def xor_bits(bits1, bits2):\n",
        "    return format(int(bits1, 2) ^ int(bits2, 2), '08b')\n",
        "\n",
        "# Шифрование одного раунда\n",
        "def encrypt_round(X, key_bits):\n",
        "    # Разбить на два 4-битных блока\n",
        "    T1, T2 = X[:4], X[4:]\n",
        "\n",
        "    # Применить S-блоки\n",
        "    N1 = format(S1(int(T1, 2)), '04b')\n",
        "    N2 = format(S2(int(T2, 2)), '04b')\n",
        "\n",
        "    # Объединить и применить P-блок\n",
        "    combined = N1 + N2\n",
        "    return P_block(combined)\n",
        "\n",
        "# Основная функция для SP-шифрования\n",
        "def sp_cipher(X, keys):\n",
        "    print(f\"Исходное сообщение: {X}\")\n",
        "    intermediate = X\n",
        "    for i, key in enumerate(keys):\n",
        "        # Применение раундового ключа\n",
        "        round_input = xor_bits(intermediate, key)\n",
        "        # Применение SP-подстановки\n",
        "        intermediate = encrypt_round(round_input, key)\n",
        "        print(f\"После {i+1}-й итерации: {intermediate}\")\n",
        "    return intermediate\n",
        "\n",
        "# Пример входных данных для нового варианта\n",
        "X = \"11001010\"  # Пример сообщения длиной 8 бит\n",
        "keys = [\"10011011\", \"11010101\", \"10101100\"]  # Пример раундовых ключей\n",
        "\n",
        "# Запуск шифрования для нового варианта\n",
        "result = sp_cipher(X, keys)\n",
        "print(f\"Зашифрованное сообщение: {result}\")"
      ]
    }
  ]
}